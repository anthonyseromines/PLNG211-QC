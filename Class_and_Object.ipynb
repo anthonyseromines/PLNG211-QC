{
  "nbformat": 4,
  "nbformat_minor": 0,
  "metadata": {
    "colab": {
      "provenance": [],
      "authorship_tag": "ABX9TyP6R5YWLjuIv+eFQBngcv47",
      "include_colab_link": true
    },
    "kernelspec": {
      "name": "python3",
      "display_name": "Python 3"
    },
    "language_info": {
      "name": "python"
    }
  },
  "cells": [
    {
      "cell_type": "markdown",
      "metadata": {
        "id": "view-in-github",
        "colab_type": "text"
      },
      "source": [
        "<a href=\"https://colab.research.google.com/github/anthonyseromines/PLNG211-QC/blob/main/Class_and_Object.ipynb\" target=\"_parent\"><img src=\"https://colab.research.google.com/assets/colab-badge.svg\" alt=\"Open In Colab\"/></a>"
      ]
    },
    {
      "cell_type": "code",
      "execution_count": 17,
      "metadata": {
        "colab": {
          "base_uri": "https://localhost:8080/"
        },
        "id": "N1kqoTlGP8w0",
        "outputId": "5d832090-4c55-4ff6-f58e-db57d759ad5f"
      },
      "outputs": [
        {
          "output_type": "stream",
          "name": "stdout",
          "text": [
            "The name of the person is: Ana\n",
            "The age of the person is: 36\n",
            "The name of the person is: Lino\n",
            "The age of the person is: 32\n",
            "The name of the person is: Maria\n",
            "The age of the person is: 39\n"
          ]
        }
      ],
      "source": [
        "class Person:\n",
        "  def __init__(self,name,age):\n",
        "    self.name = name\n",
        "    self.age = age\n",
        "class Student(Person):\n",
        "  pass\n",
        "\n",
        "class Teacher(Person):  \n",
        "  pass\n",
        "person1 = Person(\"Ana\",36)          \n",
        "print(\"The name of the person is:\",person1.name)\n",
        "print(\"The age of the person is:\",person1.age)\n",
        "\n",
        "person2 = Student(\"Lino\",32)      #inheritance\n",
        "print(\"The name of the student is:\",person2.name)\n",
        "print(\"The age of the student is:\",person2.age)\n",
        "\n",
        "person3 = Teacher(\"Maria\",39)      #inheritance\n",
        "print(\"The name of the teacher is:\",person3.name)\n",
        "print(\"The age of the teacher is:\",person3.age)"
      ]
    },
    {
      "cell_type": "code",
      "source": [
        "person2.age = 35\n",
        "print(\"The name and age of student\", person2.name + \"\\t\" + \"is\" + \"\\t\"+ str(person2.age))\n"
      ],
      "metadata": {
        "colab": {
          "base_uri": "https://localhost:8080/"
        },
        "id": "8xa2uSHFVkoe",
        "outputId": "3acbbe29-2031-4285-eae9-c563e965bb8a"
      },
      "execution_count": 23,
      "outputs": [
        {
          "output_type": "stream",
          "name": "stdout",
          "text": [
            "The name and age of student Lino\tis\t35\n"
          ]
        }
      ]
    },
    {
      "cell_type": "code",
      "source": [
        "print(\"The name of the teacher is:\",person3.name)\n",
        "person3.age = 39\n",
        "print(\"the age of the teacher is:\",person3.age)\n",
        "\n",
        "del person3.age\n",
        "del person3.name\n",
        "print(\"the age of the teacher is:\",person3.age)\n"
      ],
      "metadata": {
        "colab": {
          "base_uri": "https://localhost:8080/",
          "height": 244
        },
        "id": "sSANciFtXwfe",
        "outputId": "67301227-cfc4-42cd-db0b-637575acb4c9"
      },
      "execution_count": 26,
      "outputs": [
        {
          "output_type": "stream",
          "name": "stdout",
          "text": [
            "The name of the teacher is: Maria\n",
            "the age of the teacher is: 39\n"
          ]
        },
        {
          "output_type": "error",
          "ename": "AttributeError",
          "evalue": "ignored",
          "traceback": [
            "\u001b[0;31m---------------------------------------------------------------------------\u001b[0m",
            "\u001b[0;31mAttributeError\u001b[0m                            Traceback (most recent call last)",
            "\u001b[0;32m<ipython-input-26-178c758d98a5>\u001b[0m in \u001b[0;36m<module>\u001b[0;34m\u001b[0m\n\u001b[1;32m      5\u001b[0m \u001b[0;32mdel\u001b[0m \u001b[0mperson3\u001b[0m\u001b[0;34m.\u001b[0m\u001b[0mage\u001b[0m\u001b[0;34m\u001b[0m\u001b[0;34m\u001b[0m\u001b[0m\n\u001b[1;32m      6\u001b[0m \u001b[0;32mdel\u001b[0m \u001b[0mperson3\u001b[0m\u001b[0;34m.\u001b[0m\u001b[0mname\u001b[0m\u001b[0;34m\u001b[0m\u001b[0;34m\u001b[0m\u001b[0m\n\u001b[0;32m----> 7\u001b[0;31m \u001b[0mprint\u001b[0m\u001b[0;34m(\u001b[0m\u001b[0;34m\"the age of the teacher is:\"\u001b[0m\u001b[0;34m,\u001b[0m\u001b[0mperson3\u001b[0m\u001b[0;34m.\u001b[0m\u001b[0mage\u001b[0m\u001b[0;34m)\u001b[0m\u001b[0;34m\u001b[0m\u001b[0;34m\u001b[0m\u001b[0m\n\u001b[0m",
            "\u001b[0;31mAttributeError\u001b[0m: 'Teacher' object has no attribute 'age'"
          ]
        }
      ]
    },
    {
      "cell_type": "code",
      "source": [
        "#Application 1. Write  a rectangle class in Python language with length and width as attributes \n",
        "#Create a Perimeter () and Area () as methods to compute for the perimeter and area of retangle\n",
        "class rectangle():\n",
        "  def __init__(rec,width,length):\n",
        "    rec.width = width\n",
        "    rec.length = length\n",
        "  def parameter(rec):\n",
        "    return (rec.width + rec.length) * 2\n",
        "  \n",
        "  def area(rec):\n",
        "    return rec.width * rec.length\n",
        "\n",
        "recWidth = int(input(\"Enter the width of rectangle: \"))\n",
        "recLength = int(input(\"Enter the length of rectangle: \"))\n",
        "\n",
        "rectangleAreaPerim = rectangle(recWith, recLength)\n",
        "print(\"The area of rectangle is:\",rectangleAreaPerim.area())\n",
        "print(\"The perimeter of rectangle is:\",rectangleAreaPerim.perimeter())"
      ],
      "metadata": {
        "colab": {
          "base_uri": "https://localhost:8080/",
          "height": 281
        },
        "id": "Ya0aLyTYY3f1",
        "outputId": "7a321ba5-d1f4-48ec-fc50-1c73fa9eff85"
      },
      "execution_count": 1,
      "outputs": [
        {
          "name": "stdout",
          "output_type": "stream",
          "text": [
            "Enter the width of rectangle: 2\n",
            "Enter the length of rectangle: 6\n"
          ]
        },
        {
          "output_type": "error",
          "ename": "NameError",
          "evalue": "ignored",
          "traceback": [
            "\u001b[0;31m---------------------------------------------------------------------------\u001b[0m",
            "\u001b[0;31mNameError\u001b[0m                                 Traceback (most recent call last)",
            "\u001b[0;32m<ipython-input-1-f4d0b8414a4f>\u001b[0m in \u001b[0;36m<module>\u001b[0;34m\u001b[0m\n\u001b[1;32m     14\u001b[0m \u001b[0mrecLength\u001b[0m \u001b[0;34m=\u001b[0m \u001b[0mint\u001b[0m\u001b[0;34m(\u001b[0m\u001b[0minput\u001b[0m\u001b[0;34m(\u001b[0m\u001b[0;34m\"Enter the length of rectangle: \"\u001b[0m\u001b[0;34m)\u001b[0m\u001b[0;34m)\u001b[0m\u001b[0;34m\u001b[0m\u001b[0;34m\u001b[0m\u001b[0m\n\u001b[1;32m     15\u001b[0m \u001b[0;34m\u001b[0m\u001b[0m\n\u001b[0;32m---> 16\u001b[0;31m \u001b[0mrectangleAreaPerim\u001b[0m \u001b[0;34m=\u001b[0m \u001b[0mrectangle\u001b[0m\u001b[0;34m(\u001b[0m\u001b[0mrecWith\u001b[0m\u001b[0;34m,\u001b[0m \u001b[0mrecLength\u001b[0m\u001b[0;34m)\u001b[0m\u001b[0;34m\u001b[0m\u001b[0;34m\u001b[0m\u001b[0m\n\u001b[0m\u001b[1;32m     17\u001b[0m \u001b[0mprint\u001b[0m\u001b[0;34m(\u001b[0m\u001b[0;34m\"The area of rectangle is:\"\u001b[0m\u001b[0;34m,\u001b[0m\u001b[0mrectangleAreaPerim\u001b[0m\u001b[0;34m.\u001b[0m\u001b[0marea\u001b[0m\u001b[0;34m(\u001b[0m\u001b[0;34m)\u001b[0m\u001b[0;34m)\u001b[0m\u001b[0;34m\u001b[0m\u001b[0;34m\u001b[0m\u001b[0m\n\u001b[1;32m     18\u001b[0m \u001b[0mprint\u001b[0m\u001b[0;34m(\u001b[0m\u001b[0;34m\"The perimeter of rectangle is:\"\u001b[0m\u001b[0;34m,\u001b[0m\u001b[0mrectangleAreaPerim\u001b[0m\u001b[0;34m.\u001b[0m\u001b[0mperimeter\u001b[0m\u001b[0;34m(\u001b[0m\u001b[0;34m)\u001b[0m\u001b[0;34m)\u001b[0m\u001b[0;34m\u001b[0m\u001b[0;34m\u001b[0m\u001b[0m\n",
            "\u001b[0;31mNameError\u001b[0m: name 'recWith' is not defined"
          ]
        }
      ]
    }
  ]
}