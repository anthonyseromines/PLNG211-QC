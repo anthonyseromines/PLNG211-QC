{
  "nbformat": 4,
  "nbformat_minor": 0,
  "metadata": {
    "colab": {
      "provenance": [],
      "collapsed_sections": [],
      "authorship_tag": "ABX9TyNI4TbW0QhOBv0ggZ+0Aw3J",
      "include_colab_link": true
    },
    "kernelspec": {
      "name": "python3",
      "display_name": "Python 3"
    },
    "language_info": {
      "name": "python"
    }
  },
  "cells": [
    {
      "cell_type": "markdown",
      "metadata": {
        "id": "view-in-github",
        "colab_type": "text"
      },
      "source": [
        "<a href=\"https://colab.research.google.com/github/anthonyseromines/PLNG211-QC/blob/main/Control_and_Looping_Statement.ipynb\" target=\"_parent\"><img src=\"https://colab.research.google.com/assets/colab-badge.svg\" alt=\"Open In Colab\"/></a>"
      ]
    },
    {
      "cell_type": "code",
      "source": [
        "#If Statement\n",
        "\n",
        "a = 12\n",
        "b= 12\n",
        "\n",
        "if a<b:\n",
        " print(\"a is less than b\")"
      ],
      "metadata": {
        "id": "eDPYxVXf2UaB"
      },
      "execution_count": 15,
      "outputs": []
    },
    {
      "cell_type": "code",
      "source": [
        "#Elif Statement\n",
        "\n",
        "if a<b:\n",
        "  print('a is less than b')\n",
        "elif a>b:\n",
        "  print(\"a is greater than b\")"
      ],
      "metadata": {
        "id": "HkYfJxIA3Z0I"
      },
      "execution_count": 16,
      "outputs": []
    },
    {
      "cell_type": "code",
      "source": [
        "if a<b:\n",
        "  print('a is less than b')\n",
        "elif a>b:\n",
        "  print(\"a is greater than b\")\n",
        "else:\n",
        "  print('a is equal to b')"
      ],
      "metadata": {
        "colab": {
          "base_uri": "https://localhost:8080/"
        },
        "id": "TVt1wksl4OBR",
        "outputId": "b090a90d-8f70-4e0c-97be-18f4caf78118"
      },
      "execution_count": 17,
      "outputs": [
        {
          "output_type": "stream",
          "name": "stdout",
          "text": [
            "a is equal to b\n"
          ]
        }
      ]
    },
    {
      "cell_type": "code",
      "source": [
        "#Short Hand if Statement\n",
        "\n",
        "c = 5\n",
        "d = 10\n",
        "\n",
        "if c>d: print(\"c>d\")"
      ],
      "metadata": {
        "id": "Y9Kboc544uAR"
      },
      "execution_count": 20,
      "outputs": []
    },
    {
      "cell_type": "code",
      "source": [
        "#Short Hand If... Else Statement\n",
        "\n",
        "print('c>d') if c>d else print('d>c')"
      ],
      "metadata": {
        "colab": {
          "base_uri": "https://localhost:8080/"
        },
        "id": "d5idPcap5HpH",
        "outputId": "aca1b0a7-5eb9-425a-cfaf-5dbe3a9f1e20"
      },
      "execution_count": 21,
      "outputs": [
        {
          "output_type": "stream",
          "name": "stdout",
          "text": [
            "d>c\n"
          ]
        }
      ]
    },
    {
      "cell_type": "code",
      "source": [
        "#And Statment\n",
        "\n",
        "if 5>10 and 8>4:\n",
        "  print(\"Both statement are true\")\n",
        "else:\n",
        "  print(\"one of the statements is false / both statements are not true\")"
      ],
      "metadata": {
        "colab": {
          "base_uri": "https://localhost:8080/"
        },
        "id": "qb5hM4jr6BRZ",
        "outputId": "f30b7347-153d-48c0-b1c8-fdf2767b2ca3"
      },
      "execution_count": 24,
      "outputs": [
        {
          "output_type": "stream",
          "name": "stdout",
          "text": [
            "one of the statements is false / both statements are not true\n"
          ]
        }
      ]
    },
    {
      "cell_type": "code",
      "source": [
        "#Or Statement\n",
        "\n",
        "if 5>10 or 4>8:\n",
        "  print('True')\n",
        "else:\n",
        "  print('False')"
      ],
      "metadata": {
        "colab": {
          "base_uri": "https://localhost:8080/"
        },
        "id": "jwjxeXsA6-bl",
        "outputId": "4879336c-528e-4769-d19d-c6323f1a9993"
      },
      "execution_count": 30,
      "outputs": [
        {
          "output_type": "stream",
          "name": "stdout",
          "text": [
            "False\n"
          ]
        }
      ]
    },
    {
      "cell_type": "code",
      "source": [
        "#bitwise operator ^ (xor)\n",
        "\n",
        "e = 4   #0100 in binary\n",
        "f = 2   #0010 in binary\n",
        "\n",
        "e^f"
      ],
      "metadata": {
        "colab": {
          "base_uri": "https://localhost:8080/"
        },
        "id": "zCi7b9DZ7vUk",
        "outputId": "8c8ba0fa-5895-41d6-922b-f402e6764a9f"
      },
      "execution_count": 31,
      "outputs": [
        {
          "output_type": "execute_result",
          "data": {
            "text/plain": [
              "6"
            ]
          },
          "metadata": {},
          "execution_count": 31
        }
      ]
    },
    {
      "cell_type": "code",
      "source": [
        "#Nested If Statement\n",
        "\n",
        "x = 39\n",
        "if x>10:\n",
        "  print(\"Number is above 10\")\n",
        "  if x>20:\n",
        "    print(\"Number is above 20\")\n",
        "    if x>30:\n",
        "      print(\"Number is above 30\")\n",
        "      if x>40:\n",
        "        print(\"Number is above 40\")\n",
        "        if x>50:\n",
        "          print(\"Number is above 50\")\n",
        "      else:\n",
        "        print(\"The number is less than 50\")\n",
        "    else: \n",
        "      print(\"Number is less than 40\")"
      ],
      "metadata": {
        "colab": {
          "base_uri": "https://localhost:8080/"
        },
        "id": "JyM6PlBH9hQW",
        "outputId": "951c8e02-7061-47bc-a177-49dd7bcfe855"
      },
      "execution_count": 97,
      "outputs": [
        {
          "output_type": "stream",
          "name": "stdout",
          "text": [
            "Number is above 10\n",
            "Number is above 20\n",
            "Number is above 30\n",
            "The number is less than 50\n"
          ]
        }
      ]
    },
    {
      "cell_type": "code",
      "source": [
        "#Application 1. Write a program that detemines if the input age is qualified to vote or not \n",
        "#The quailified age is 18 years old and above \n",
        "\n",
        "a = 17\n",
        "if a<18:\n",
        "  print(\"Not qualified to vote\")\n",
        "elif a>=18:\n",
        "  print(\"Qualified to vote\")"
      ],
      "metadata": {
        "colab": {
          "base_uri": "https://localhost:8080/"
        },
        "id": "oXaiuPeWAyU_",
        "outputId": "fb96a548-c9d2-4000-ea72-c104994a4445"
      },
      "execution_count": 104,
      "outputs": [
        {
          "output_type": "stream",
          "name": "stdout",
          "text": [
            "Not qualified to vote\n"
          ]
        }
      ]
    },
    {
      "cell_type": "code",
      "source": [
        "age = input(\"Enter age:\")\n",
        "if int(age)<18:\n",
        "  print(\"Not qualified to vote\")\n",
        "elif int(age)>=18:\n",
        "  print(\"Qualified to vote\")"
      ],
      "metadata": {
        "colab": {
          "base_uri": "https://localhost:8080/"
        },
        "id": "EJGB9rdqNUGw",
        "outputId": "900abddc-4034-4343-e47c-9cc01387c52a"
      },
      "execution_count": 105,
      "outputs": [
        {
          "output_type": "stream",
          "name": "stdout",
          "text": [
            "Enter age:21\n",
            "Qualified to vote\n"
          ]
        }
      ]
    },
    {
      "cell_type": "code",
      "source": [
        "#Application 2. Write a program that determines if the input number is Positive, Negative, or Zero.\n",
        "\n",
        "num = input(\"Enter number:\")\n",
        "if int(num)>0:\n",
        "  print(\"The number is Positive\")\n",
        "elif int(num)<0:\n",
        "  print(\"The number is Negative\")\n",
        "else:\n",
        "  print(\"The number is zero\")"
      ],
      "metadata": {
        "colab": {
          "base_uri": "https://localhost:8080/"
        },
        "id": "SiWtW373CD8a",
        "outputId": "e3abfef7-58b8-460b-bf0b-107b0875c5ea"
      },
      "execution_count": 107,
      "outputs": [
        {
          "output_type": "stream",
          "name": "stdout",
          "text": [
            "Enter number:-9\n",
            "The number is Negative\n"
          ]
        }
      ]
    },
    {
      "cell_type": "code",
      "source": [
        "#for loop statement\n",
        "week = [\"Sunday\",\"Monday\",\"Tuesday\",\"Wednesday\",\"Thursday\",\"Friday\",\"Saturday\"]\n",
        "for y in week:\n",
        "  print(y)"
      ],
      "metadata": {
        "colab": {
          "base_uri": "https://localhost:8080/"
        },
        "id": "p0vDh-AoC7XL",
        "outputId": "44a47702-5e10-48cd-ace2-a8a240d69a5d"
      },
      "execution_count": 58,
      "outputs": [
        {
          "output_type": "stream",
          "name": "stdout",
          "text": [
            "Sunday\n",
            "Monday\n",
            "Tuesday\n",
            "Wednesday\n",
            "Thursday\n",
            "Friday\n",
            "Saturday\n"
          ]
        }
      ]
    },
    {
      "cell_type": "code",
      "source": [
        "week = [\"Sunday\",\"Monday\",\"Tuesday\",\"wednesday\",\"Thursday\",\"Friday\",\"Saturday\"]\n",
        "for y in week:\n",
        "  print(y)\n",
        "  if y == \"Thursday\":\n",
        "   break"
      ],
      "metadata": {
        "colab": {
          "base_uri": "https://localhost:8080/"
        },
        "id": "Sb44x_TBDuzb",
        "outputId": "0422037a-aece-4c8b-de4d-6fe37ba086fe"
      },
      "execution_count": 65,
      "outputs": [
        {
          "output_type": "stream",
          "name": "stdout",
          "text": [
            "Sunday\n",
            "Monday\n",
            "Tuesday\n",
            "wednesday\n",
            "Thursday\n"
          ]
        }
      ]
    },
    {
      "cell_type": "code",
      "source": [
        "week = [\"Sunday\",\"Monday\",\"Tuesday\",\"wednesday\",\"Thursday\",\"Friday\",\"Saturday\"]\n",
        "for y in week:\n",
        "  if y == \"Thursday\":\n",
        "   break\n",
        "  print(y)"
      ],
      "metadata": {
        "colab": {
          "base_uri": "https://localhost:8080/"
        },
        "id": "HpHIOgQ7EVbB",
        "outputId": "9f781c2b-3c2b-4138-e1b5-9b85a732001d"
      },
      "execution_count": 67,
      "outputs": [
        {
          "output_type": "stream",
          "name": "stdout",
          "text": [
            "Sunday\n",
            "Monday\n",
            "Tuesday\n",
            "wednesday\n"
          ]
        }
      ]
    },
    {
      "cell_type": "code",
      "source": [
        "for x in \"week\":\n",
        "  print(x)\n"
      ],
      "metadata": {
        "colab": {
          "base_uri": "https://localhost:8080/"
        },
        "id": "oSThq93-E0cq",
        "outputId": "9d5711b8-0b06-486b-a51e-8a1b701db94f"
      },
      "execution_count": 68,
      "outputs": [
        {
          "output_type": "stream",
          "name": "stdout",
          "text": [
            "w\n",
            "e\n",
            "e\n",
            "k\n"
          ]
        }
      ]
    },
    {
      "cell_type": "code",
      "source": [
        "#range () function\n",
        "for x in range(6):\n",
        "  print(x)"
      ],
      "metadata": {
        "colab": {
          "base_uri": "https://localhost:8080/"
        },
        "id": "rkf6ADHOFGVs",
        "outputId": "8d5b7dd8-7c89-4a60-8a79-10cd9588a9d7"
      },
      "execution_count": 69,
      "outputs": [
        {
          "output_type": "stream",
          "name": "stdout",
          "text": [
            "0\n",
            "1\n",
            "2\n",
            "3\n",
            "4\n",
            "5\n"
          ]
        }
      ]
    },
    {
      "cell_type": "code",
      "source": [
        "for x in range (2,6+1,1):\n",
        "  print(x)"
      ],
      "metadata": {
        "colab": {
          "base_uri": "https://localhost:8080/"
        },
        "id": "gwuU0DPVFWs4",
        "outputId": "59755f7d-112a-46dd-c282-b31b300ac7a9"
      },
      "execution_count": 76,
      "outputs": [
        {
          "output_type": "stream",
          "name": "stdout",
          "text": [
            "2\n",
            "3\n",
            "4\n",
            "5\n",
            "6\n"
          ]
        }
      ]
    },
    {
      "cell_type": "code",
      "source": [
        "adjective = [\"red\",\"big\",\"tasty\"]\n",
        "fruits = [\"apple\",\"banana\",\"cherry\"]\n",
        "\n",
        "for x in adjective:\n",
        "  for y in fruits:\n",
        "    print(x,y)"
      ],
      "metadata": {
        "colab": {
          "base_uri": "https://localhost:8080/"
        },
        "id": "TrKJY212GGLZ",
        "outputId": "76665256-a121-4a48-d3a3-896305c8195d"
      },
      "execution_count": 79,
      "outputs": [
        {
          "output_type": "stream",
          "name": "stdout",
          "text": [
            "red apple\n",
            "red banana\n",
            "red cherry\n",
            "big apple\n",
            "big banana\n",
            "big cherry\n",
            "tasty apple\n",
            "tasty banana\n",
            "tasty cherry\n"
          ]
        }
      ]
    },
    {
      "cell_type": "code",
      "source": [
        "i = 1\n",
        "while i<=6:\n",
        "  print(i)\n",
        "  i+=1\n",
        " "
      ],
      "metadata": {
        "colab": {
          "base_uri": "https://localhost:8080/"
        },
        "id": "9iy9Gw3gHuBa",
        "outputId": "e9812b0c-2b2e-47d7-bb5b-21f8411cd14f"
      },
      "execution_count": 89,
      "outputs": [
        {
          "output_type": "stream",
          "name": "stdout",
          "text": [
            "1\n",
            "2\n",
            "3\n",
            "4\n",
            "5\n",
            "6\n"
          ]
        }
      ]
    },
    {
      "cell_type": "code",
      "source": [
        "i = 1\n",
        "while i<=6:\n",
        "  print(i) \n",
        "  if i==3:\n",
        "    break\n",
        "  i += 1"
      ],
      "metadata": {
        "colab": {
          "base_uri": "https://localhost:8080/"
        },
        "id": "5AmdLytzIa4M",
        "outputId": "7179d663-007c-4c72-cc97-f346a6f59c74"
      },
      "execution_count": 90,
      "outputs": [
        {
          "output_type": "stream",
          "name": "stdout",
          "text": [
            "1\n",
            "2\n",
            "3\n"
          ]
        }
      ]
    },
    {
      "cell_type": "code",
      "source": [
        "#Using while loop and break statement, the output is only 3.\n",
        "i = 3\n",
        "while i<=6:\n",
        "  print(i) \n",
        "  if i==3:\n",
        "    break\n",
        "  i += 1"
      ],
      "metadata": {
        "colab": {
          "base_uri": "https://localhost:8080/"
        },
        "id": "R3oUFgVeIluh",
        "outputId": "0604ab4e-bde7-433d-e7cd-e9e5610a3f05"
      },
      "execution_count": 102,
      "outputs": [
        {
          "output_type": "stream",
          "name": "stdout",
          "text": [
            "3\n"
          ]
        }
      ]
    }
  ]
}