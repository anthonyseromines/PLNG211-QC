{
  "nbformat": 4,
  "nbformat_minor": 0,
  "metadata": {
    "colab": {
      "provenance": [],
      "authorship_tag": "ABX9TyMTx2XsRkxR9kgY/GitsXAn",
      "include_colab_link": true
    },
    "kernelspec": {
      "name": "python3",
      "display_name": "Python 3"
    },
    "language_info": {
      "name": "python"
    }
  },
  "cells": [
    {
      "cell_type": "markdown",
      "metadata": {
        "id": "view-in-github",
        "colab_type": "text"
      },
      "source": [
        "<a href=\"https://colab.research.google.com/github/anthonyseromines/PLNG211-QC/blob/main/Lab_Activity_no_1_.ipynb\" target=\"_parent\"><img src=\"https://colab.research.google.com/assets/colab-badge.svg\" alt=\"Open In Colab\"/></a>"
      ]
    },
    {
      "cell_type": "code",
      "source": [],
      "metadata": {
        "id": "Bd-uI4XJZAOx"
      },
      "execution_count": null,
      "outputs": []
    },
    {
      "cell_type": "code",
      "execution_count": 12,
      "metadata": {
        "colab": {
          "base_uri": "https://localhost:8080/"
        },
        "id": "SHJwToQiPrds",
        "outputId": "cdc6fb12-197e-4338-d359-f9e92c312350"
      },
      "outputs": [
        {
          "output_type": "stream",
          "name": "stdout",
          "text": [
            "45\n",
            "[0, 1, 2, 3, 4, 5, 6, 7, 8, 9, 10]\n",
            "[26, 0, 1, 2, 3, 4, 5, 6, 7, 8, 9, 10]\n",
            "[10, 9, 8, 7, 6, 5, 4, 3, 2, 1, 0, 26]\n",
            "12\n"
          ]
        }
      ],
      "source": [
        "#number 1\n",
        "array = [0,1,2,3,4,5,6,7,8,9]\n",
        "arraySum = 0\n",
        "for x in array:\n",
        "    arraySum+=array[x]\n",
        "print(arraySum)\n",
        "\n",
        "#number 2\n",
        "array.append(10)\n",
        "print(array)\n",
        "\n",
        "#number 3\n",
        "array.insert(0,26)\n",
        "print(array)\n",
        "\n",
        "#number 4\n",
        "array.reverse()\n",
        "print(array)\n",
        "\n",
        "#number 5\n",
        "length = 0\n",
        "for x in array:\n",
        "    length+=1\n",
        "print(length)\n",
        "\n"
      ]
    }
  ]
}