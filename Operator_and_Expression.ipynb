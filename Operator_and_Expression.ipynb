{
  "nbformat": 4,
  "nbformat_minor": 0,
  "metadata": {
    "colab": {
      "provenance": [],
      "authorship_tag": "ABX9TyNYQgC+bi/yEc73M3EKjd5x",
      "include_colab_link": true
    },
    "kernelspec": {
      "name": "python3",
      "display_name": "Python 3"
    },
    "language_info": {
      "name": "python"
    }
  },
  "cells": [
    {
      "cell_type": "markdown",
      "metadata": {
        "id": "view-in-github",
        "colab_type": "text"
      },
      "source": [
        "<a href=\"https://colab.research.google.com/github/anthonyseromines/PLNG211-QC/blob/main/Operator_and_Expression.ipynb\" target=\"_parent\"><img src=\"https://colab.research.google.com/assets/colab-badge.svg\" alt=\"Open In Colab\"/></a>"
      ]
    },
    {
      "cell_type": "markdown",
      "source": [
        "Boolean Operators"
      ],
      "metadata": {
        "id": "Gmud3HI5j2uf"
      }
    },
    {
      "cell_type": "code",
      "source": [
        "a=10\n",
        "b=9\n",
        "print(10>9)\n",
        "print(10<9)\n",
        "print(10==9)"
      ],
      "metadata": {
        "colab": {
          "base_uri": "https://localhost:8080/"
        },
        "id": "__N1L1F5j7u7",
        "outputId": "35803046-bf12-4b38-af29-ab1ce32ad091"
      },
      "execution_count": null,
      "outputs": [
        {
          "output_type": "stream",
          "name": "stdout",
          "text": [
            "True\n",
            "False\n",
            "False\n"
          ]
        }
      ]
    },
    {
      "cell_type": "markdown",
      "source": [
        "Bool() Funtion"
      ],
      "metadata": {
        "id": "65jnDQhRkg-U"
      }
    },
    {
      "cell_type": "code",
      "source": [
        "print(bool(15))\n",
        "print(bool(\"Maria\"))\n",
        "\n",
        "print(bool(0))\n",
        "print(bool(None))\n",
        "print(bool(False))"
      ],
      "metadata": {
        "colab": {
          "base_uri": "https://localhost:8080/"
        },
        "id": "OhWFWaurkldT",
        "outputId": "e3202552-96e8-4960-9ca3-ad94571afbea"
      },
      "execution_count": null,
      "outputs": [
        {
          "output_type": "stream",
          "name": "stdout",
          "text": [
            "True\n",
            "True\n",
            "False\n",
            "False\n",
            "False\n"
          ]
        }
      ]
    },
    {
      "cell_type": "markdown",
      "source": [
        "Funtion that returns a Boolean"
      ],
      "metadata": {
        "id": "EAskTYiylQgH"
      }
    },
    {
      "cell_type": "code",
      "source": [
        "def my_funtion():\n",
        " return True \n",
        "\n",
        "if(my_funtion()):\n",
        "  print(\"yes!\")\n",
        "else:\n",
        "  print(\"no!\")"
      ],
      "metadata": {
        "colab": {
          "base_uri": "https://localhost:8080/"
        },
        "id": "UacQsXlklXCe",
        "outputId": "87b7e1a6-02ce-49f2-e585-ff373b2ddd78"
      },
      "execution_count": null,
      "outputs": [
        {
          "output_type": "stream",
          "name": "stdout",
          "text": [
            "yes!\n"
          ]
        }
      ]
    },
    {
      "cell_type": "code",
      "source": [
        "c = 6\n",
        "d = 7\n",
        "print(c==d)\n",
        "print(c!=c)"
      ],
      "metadata": {
        "colab": {
          "base_uri": "https://localhost:8080/"
        },
        "id": "l7iE79E1nQu6",
        "outputId": "fa62a860-6d58-4a8a-cc46-2df43545d81d"
      },
      "execution_count": null,
      "outputs": [
        {
          "output_type": "stream",
          "name": "stdout",
          "text": [
            "False\n",
            "False\n"
          ]
        }
      ]
    },
    {
      "cell_type": "markdown",
      "source": [
        "Python Operators"
      ],
      "metadata": {
        "id": "WH153V7So8h6"
      }
    },
    {
      "cell_type": "code",
      "source": [
        "print(10+9)\n",
        "print(10*9)\n",
        "print(10-9)\n",
        "print(10/5)             #divion\n",
        "10/3                    #floor division\n",
        "print(10%3)             #remaider 10/3=3.33 remainder 1\n",
        "print(10**2)"
      ],
      "metadata": {
        "colab": {
          "base_uri": "https://localhost:8080/"
        },
        "id": "1pZlbN_eo_2T",
        "outputId": "99780961-efda-4d91-fdf3-cc39a930c5ad"
      },
      "execution_count": null,
      "outputs": [
        {
          "output_type": "stream",
          "name": "stdout",
          "text": [
            "19\n",
            "90\n",
            "1\n",
            "2.0\n",
            "1\n"
          ]
        }
      ]
    },
    {
      "cell_type": "markdown",
      "source": [
        "Bitwise Operator"
      ],
      "metadata": {
        "id": "TC7CkTZTsAy0"
      }
    },
    {
      "cell_type": "code",
      "source": [
        "e = 60\n",
        "f = 13\n",
        "e ^ f"
      ],
      "metadata": {
        "colab": {
          "base_uri": "https://localhost:8080/"
        },
        "id": "a3cgq6__sEFK",
        "outputId": "5a74bdd6-f2ec-4f0d-c969-d92a249157fc"
      },
      "execution_count": null,
      "outputs": [
        {
          "output_type": "execute_result",
          "data": {
            "text/plain": [
              "49"
            ]
          },
          "metadata": {},
          "execution_count": 28
        }
      ]
    },
    {
      "cell_type": "markdown",
      "source": [
        "Python Assignment Operator "
      ],
      "metadata": {
        "id": "kwF-Txi1tVpA"
      }
    },
    {
      "cell_type": "code",
      "source": [
        "x = 4  \n",
        "x+=3        #e = e+3, x = 4+3 = 7 \n",
        "print(\"x =\",x)"
      ],
      "metadata": {
        "colab": {
          "base_uri": "https://localhost:8080/"
        },
        "id": "5EOzzm2VtcC6",
        "outputId": "7d9278ba-4697-4dca-c7a1-cb397d11728a"
      },
      "execution_count": null,
      "outputs": [
        {
          "output_type": "stream",
          "name": "stdout",
          "text": [
            "x = 7\n"
          ]
        }
      ]
    },
    {
      "cell_type": "markdown",
      "source": [
        "Logical Operator "
      ],
      "metadata": {
        "id": "3L1GGYA2umAA"
      }
    },
    {
      "cell_type": "code",
      "source": [
        "print((4>3) and (5==5)) #and\n",
        "print((6==6) or (6!=6))  #or"
      ],
      "metadata": {
        "colab": {
          "base_uri": "https://localhost:8080/"
        },
        "id": "-04WjmjTuoir",
        "outputId": "a7647eb1-ad3c-48cd-a28f-cc295f719cc1"
      },
      "execution_count": null,
      "outputs": [
        {
          "output_type": "stream",
          "name": "stdout",
          "text": [
            "True\n",
            "True\n"
          ]
        }
      ]
    },
    {
      "cell_type": "markdown",
      "source": [
        "Identify  Funtion"
      ],
      "metadata": {
        "id": "i79ii9GKviHn"
      }
    },
    {
      "cell_type": "code",
      "source": [
        "print(4 is 3)\n",
        "print(4 is 4)\n",
        "print(4 is not 3)\n",
        "print(4 is not 4)"
      ],
      "metadata": {
        "colab": {
          "base_uri": "https://localhost:8080/"
        },
        "id": "6FMarBttvn5_",
        "outputId": "82e71291-6795-4c16-d2c0-632e44e43a6e"
      },
      "execution_count": null,
      "outputs": [
        {
          "output_type": "stream",
          "name": "stdout",
          "text": [
            "False\n",
            "True\n",
            "True\n",
            "False\n"
          ]
        }
      ]
    }
  ]
}