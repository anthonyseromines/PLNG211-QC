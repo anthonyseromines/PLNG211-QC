{
  "nbformat": 4,
  "nbformat_minor": 0,
  "metadata": {
    "colab": {
      "provenance": [],
      "authorship_tag": "ABX9TyMR1OcYVPMSu9lo/CLdr84C",
      "include_colab_link": true
    },
    "kernelspec": {
      "name": "python3",
      "display_name": "Python 3"
    },
    "language_info": {
      "name": "python"
    }
  },
  "cells": [
    {
      "cell_type": "markdown",
      "metadata": {
        "id": "view-in-github",
        "colab_type": "text"
      },
      "source": [
        "<a href=\"https://colab.research.google.com/github/anthonyseromines/PLNG211-QC/blob/main/Python_Function_Exercise_1_%26_2.ipynb\" target=\"_parent\"><img src=\"https://colab.research.google.com/assets/colab-badge.svg\" alt=\"Open In Colab\"/></a>"
      ]
    },
    {
      "cell_type": "code",
      "execution_count": 1,
      "metadata": {
        "colab": {
          "base_uri": "https://localhost:8080/"
        },
        "id": "8VmtOJDJxoxj",
        "outputId": "aa00700a-9e95-40d8-dd71-515774283ae2"
      },
      "outputs": [
        {
          "output_type": "stream",
          "name": "stdout",
          "text": [
            "2\n",
            "7\n",
            "4\n"
          ]
        }
      ],
      "source": [
        "#Exercise 1\n",
        "\n",
        "print(min(2, 3, 4))\n",
        "print(max(2, -3, 4, 7, -5))\n",
        "print(max(2, -3, min(4, 7), -5))"
      ]
    },
    {
      "cell_type": "code",
      "source": [
        "#Exercise 2\n",
        "\n",
        "import math\n",
        "\n",
        "def sum(firstInt,secondInt,thirdInt):\n",
        "  return firstInt + secondInt + thirdInt\n",
        "def average(firstInt,secondInt,thirdInt):\n",
        "  return (firstInt + secondInt + thirdInt)/3\n",
        "def sumSquare(firstInt,secondInt,thirdInt):\n",
        "  return math.pow(firstInt,2) + math.pow(secondInt,2) + math.pow(thirdInt,2)\n",
        "\n",
        "firstInt= int(input())\n",
        "secondInt= int(input())\n",
        "thirdInt= int(input())\n",
        "\n",
        "print(\"Sum =\",sum(firstInt,secondInt,thirdInt))\n",
        "print(\"Average =\",average(firstInt,secondInt,thirdInt))\n",
        "print(\"Sum of Square =\",sumSquare(firstInt,secondInt,thirdInt))"
      ],
      "metadata": {
        "colab": {
          "base_uri": "https://localhost:8080/"
        },
        "id": "7-jYOGbGzKyW",
        "outputId": "aee73cf8-4698-49cc-9188-58f8b973509d"
      },
      "execution_count": 3,
      "outputs": [
        {
          "output_type": "stream",
          "name": "stdout",
          "text": [
            "2\n",
            "3\n",
            "4\n",
            "Sum = 9\n",
            "Average = 3.0\n",
            "Sum of Square = 29.0\n"
          ]
        }
      ]
    }
  ]
}