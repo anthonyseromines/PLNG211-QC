{
  "nbformat": 4,
  "nbformat_minor": 0,
  "metadata": {
    "colab": {
      "provenance": [],
      "collapsed_sections": [],
      "authorship_tag": "ABX9TyM900q4IJKjFIuthLBZUSjD",
      "include_colab_link": true
    },
    "kernelspec": {
      "name": "python3",
      "display_name": "Python 3"
    },
    "language_info": {
      "name": "python"
    }
  },
  "cells": [
    {
      "cell_type": "markdown",
      "metadata": {
        "id": "view-in-github",
        "colab_type": "text"
      },
      "source": [
        "<a href=\"https://colab.research.google.com/github/anthonyseromines/PLNG211-QC/blob/main/Seromines%2C_Anthony_Exercise_1.ipynb\" target=\"_parent\"><img src=\"https://colab.research.google.com/assets/colab-badge.svg\" alt=\"Open In Colab\"/></a>"
      ]
    },
    {
      "cell_type": "code",
      "execution_count": 5,
      "metadata": {
        "id": "XVUAKhjZGO2L",
        "colab": {
          "base_uri": "https://localhost:8080/"
        },
        "outputId": "1aac3429-35dd-41e8-e85e-7bf1c838723d"
      },
      "outputs": [
        {
          "output_type": "stream",
          "name": "stdout",
          "text": [
            "26\n",
            "98\n",
            "62\n"
          ]
        }
      ],
      "source": [
        "Score = [26, 49, 98, 87, 62, 75]\n",
        "\n",
        "for num in Score:\n",
        "\n",
        "  if num % 2 == 0:\n",
        "        print(num)"
      ]
    }
  ]
}